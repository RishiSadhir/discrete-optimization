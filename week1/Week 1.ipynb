{
 "cells": [
  {
   "cell_type": "markdown",
   "metadata": {},
   "source": [
    "Assignment workflow:\n",
    "\n",
    "1. Download zip file\n",
    "    a. Contains a handout.pdf\n",
    "    b. solver.py where you build the algorithm\n",
    "    c. submit.py submits results\n",
    "    d. data directory includes test data\n",
    "2. Code and test locally\n",
    "3. Run submission script\n",
    "4. Iterate, if you want!"
   ]
  }
 ],
 "metadata": {
  "kernelspec": {
   "display_name": "Python 3",
   "language": "python",
   "name": "python3"
  },
  "language_info": {
   "codemirror_mode": {
    "name": "ipython",
    "version": 3
   },
   "file_extension": ".py",
   "mimetype": "text/x-python",
   "name": "python",
   "nbconvert_exporter": "python",
   "pygments_lexer": "ipython3",
   "version": "3.7.4"
  }
 },
 "nbformat": 4,
 "nbformat_minor": 2
}
